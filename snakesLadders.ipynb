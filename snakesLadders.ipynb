{
 "cells": [
  {
   "cell_type": "markdown",
   "metadata": {},
   "source": [
    "## Snakes and ladders examples"
   ]
  },
  {
   "cell_type": "markdown",
   "metadata": {},
   "source": [
    "Below are a few examples of the functions used in our 'Snakes and Ladders' program. Looking over these snippets should help in understanding the functions, and also the problem itself and its solutions. "
   ]
  },
  {
   "cell_type": "raw",
   "metadata": {},
   "source": [
    "Firstly, we will need to create a board, with a set of ladders and snakes. The way we have chosen to do so is by letting the user choose the number of snakes and ladders, as well as the length of the board, and then randomly generating the specified number of each. Both ladders and snakes are in the form of lists of lists, where each inner list has 2 elements: the starting point of the ladder/snake, and the endpoint. The function *generateSnakesAndLadders* gives us both the ladders and the snakes simultaneously. "
   ]
  },
  {
   "cell_type": "code",
   "execution_count": 1,
   "metadata": {},
   "outputs": [
    {
     "name": "stdout",
     "output_type": "stream",
     "text": [
      "The ladders: \n",
      "\n",
      "[[60, 67], [48, 96], [5, 7], [23, 47], [35, 98]] \n",
      "\n",
      "The snakes: \n",
      "\n",
      "[[99, 83], [86, 52], [37, 20], [72, 53], [84, 62], [77, 30], [88, 13], [43, 33], [32, 8], [63, 45], [56, 9], [51, 49], [81, 61], [64, 55], [44, 18], [74, 11], [78, 21]] \n",
      "\n"
     ]
    }
   ],
   "source": [
    "import math\n",
    "import random\n",
    "import snakesLadders\n",
    "   \n",
    "random.seed(53)\n",
    "\n",
    "goal = 100\n",
    "numLadders = 5\n",
    "numSnakes = 17\n",
    "ladders, snakes = snakesLadders.generateSnakesAndLadders(numLadders, numSnakes, goal)\n",
    "print('The ladders: \\n')\n",
    "print(ladders, '\\n')\n",
    "print('The snakes: \\n')\n",
    "print(snakes, '\\n')"
   ]
  },
  {
   "cell_type": "markdown",
   "metadata": {},
   "source": [
    "Next, to find the length of the shortest path, we pass the ladders, snakes, and number of the goal field to the *quickestWayUp* function. "
   ]
  },
  {
   "cell_type": "code",
   "execution_count": 2,
   "metadata": {},
   "outputs": [
    {
     "name": "stdout",
     "output_type": "stream",
     "text": [
      "6\n"
     ]
    }
   ],
   "source": [
    "shortestPath = snakesLadders.quickestWayUp(ladders, snakes, goal)\n",
    "\n",
    "print(shortestPath)"
   ]
  },
  {
   "cell_type": "markdown",
   "metadata": {},
   "source": [
    "To find the number of steps needed to reach the goal in a normal game where the die rolls are random, we use the *betterAverageFinder* function."
   ]
  },
  {
   "cell_type": "code",
   "execution_count": 3,
   "metadata": {},
   "outputs": [
    {
     "name": "stdout",
     "output_type": "stream",
     "text": [
      "61.70274096153735\n"
     ]
    }
   ],
   "source": [
    "lucky = snakesLadders.betterAverageFinder(ladders, snakes, goal)\n",
    "\n",
    "print(lucky)"
   ]
  },
  {
   "cell_type": "markdown",
   "metadata": {},
   "source": [
    "The results can be greatly changed through altering the number of snakes and/or ladders. Here are some examples:"
   ]
  },
  {
   "cell_type": "code",
   "execution_count": 4,
   "metadata": {},
   "outputs": [
    {
     "name": "stdout",
     "output_type": "stream",
     "text": [
      "Quickest path to the goal is 2 steps\n",
      "\n",
      "Average path to the goal is 88.87315053127033 steps\n",
      "\n"
     ]
    }
   ],
   "source": [
    "numLadders = 5\n",
    "numSnakes = 42\n",
    "ladders, snakes = snakesLadders.generateSnakesAndLadders(numLadders, numSnakes, goal)\n",
    "\n",
    "shortestPath = snakesLadders.quickestWayUp(ladders, snakes, goal)\n",
    "lucky = snakesLadders.betterAverageFinder(ladders, snakes, goal)\n",
    "\n",
    "print('Quickest path to the goal is ' + str(shortestPath) + ' steps\\n')\n",
    "print('Average path to the goal is ' + str(lucky) + ' steps\\n')"
   ]
  },
  {
   "cell_type": "markdown",
   "metadata": {},
   "source": [
    "As seen above, increasing the number of snakes does little to affect the shortest path, as they can generally be avoided in the perfect scenario, but in the chance-based travel, a greater number of snakes can increase the path length, but excepting extremely high values, not quite so drastically. A great number of snakes also makes it more likely than the goal cannot be reached, in which case *-1* is returned. \n",
    "\n",
    "As for changing the number of ladders:"
   ]
  },
  {
   "cell_type": "code",
   "execution_count": 5,
   "metadata": {},
   "outputs": [
    {
     "name": "stdout",
     "output_type": "stream",
     "text": [
      "Quickest path to the goal is 3 steps\n",
      "\n",
      "Average path to the goal is 17.00912227779555 steps\n",
      "\n"
     ]
    }
   ],
   "source": [
    "numLadders = 15\n",
    "numSnakes = 17\n",
    "ladders, snakes = snakesLadders.generateSnakesAndLadders(numLadders, numSnakes, goal)\n",
    "\n",
    "shortestPath = snakesLadders.quickestWayUp(ladders, snakes, goal)\n",
    "lucky = snakesLadders.betterAverageFinder(ladders, snakes, goal)\n",
    "\n",
    "print('Quickest path to the goal is ' + str(shortestPath) + ' steps\\n')\n",
    "print('Average path to the goal is ' + str(lucky) + ' steps\\n')"
   ]
  },
  {
   "cell_type": "markdown",
   "metadata": {},
   "source": [
    "Increasing the number of ladders greatly decreases the shortest path in the perfect scenario, as there are more shortcuts for us to take. It also decreases the chance-based average path, but not quite so greatly. "
   ]
  }
 ],
 "metadata": {
  "kernelspec": {
   "display_name": "Python 3",
   "language": "python",
   "name": "python3"
  },
  "language_info": {
   "codemirror_mode": {
    "name": "ipython",
    "version": 3
   },
   "file_extension": ".py",
   "mimetype": "text/x-python",
   "name": "python",
   "nbconvert_exporter": "python",
   "pygments_lexer": "ipython3",
   "version": "3.7.4"
  }
 },
 "nbformat": 4,
 "nbformat_minor": 2
}
